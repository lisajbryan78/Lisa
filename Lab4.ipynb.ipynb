{
 "cells": [
  {
   "cell_type": "markdown",
   "metadata": {},
   "source": [
    "# Regressions"
   ]
  },
  {
   "cell_type": "code",
   "execution_count": 1,
   "metadata": {},
   "outputs": [],
   "source": [
    "# import packages you will be using in this lab\n",
    "\n",
    "import numpy as np\n",
    "import pandas as pd\n",
    "import matplotlib.pylab as plt\n",
    "from sklearn.linear_model import LinearRegression\n",
    "from sklearn.linear_model import LogisticRegression\n",
    "from sklearn.model_selection import train_test_split\n",
    "from sklearn.preprocessing import StandardScaler"
   ]
  },
  {
   "cell_type": "markdown",
   "metadata": {},
   "source": [
    "### Linear Regression\n",
    "\n",
    "\n"
   ]
  },
  {
   "cell_type": "markdown",
   "metadata": {},
   "source": [
    "Now that you have learned how linear regression works, let’s try it on an example of real-world data.\n",
    "\n",
    "Imagine yourself working ss a data analysit for a computer manufacturing company. You are given a dataset on computer sales for each quarter beteen the year 2015 to 2019. The company is relying on you to tell whether the sales is going up, going down, or stayed the same. The company also would like you to predict its sales in 2025. \n",
    "\n",
    "The dataset computersales.csv can be download from Canvas.\n",
    "\n"
   ]
  },
  {
   "cell_type": "code",
   "execution_count": 2,
   "metadata": {},
   "outputs": [
    {
     "name": "stdout",
     "output_type": "stream",
     "text": [
      "   year  quarter  sales\n",
      "0  2015        1   4009\n",
      "1  2015        2   4321\n",
      "2  2015        3   4224\n",
      "3  2015        4   3944\n",
      "4  2016        5   4123\n",
      "year       int64\n",
      "quarter    int64\n",
      "sales      int64\n",
      "dtype: object\n",
      "year       20\n",
      "quarter    20\n",
      "sales      20\n",
      "dtype: int64\n",
      "Index(['year', 'quarter', 'sales'], dtype='object')\n",
      "<class 'pandas.core.frame.DataFrame'>\n",
      "RangeIndex: 20 entries, 0 to 19\n",
      "Data columns (total 3 columns):\n",
      " #   Column   Non-Null Count  Dtype\n",
      "---  ------   --------------  -----\n",
      " 0   year     20 non-null     int64\n",
      " 1   quarter  20 non-null     int64\n",
      " 2   sales    20 non-null     int64\n",
      "dtypes: int64(3)\n",
      "memory usage: 608.0 bytes\n",
      "None\n"
     ]
    }
   ],
   "source": [
    "# Create dataframes computer_df from the data and explore the data\n",
    "# Print out the dataframe to visually inspect the data\n",
    "# try other data exploration methods to explore the data\n",
    "\n",
    "computersales_df=pd.read_csv(\"C:/Users/lisaj/OneDrive/Documents/Documents/MIS 536/Lab4_dataset/Lab4_dataset/computersales.csv\")\n",
    "print(computersales_df.head())\n",
    "print(computersales_df.dtypes)\n",
    "print(computersales_df.count())\n",
    "print(computersales_df.columns)\n",
    "print(computersales_df.info())\n",
    "\n"
   ]
  },
  {
   "cell_type": "code",
   "execution_count": 3,
   "metadata": {},
   "outputs": [
    {
     "name": "stdout",
     "output_type": "stream",
     "text": [
      "year\n",
      "2015    16498\n",
      "2016    17332\n",
      "2017    18335\n",
      "2018    18069\n",
      "2019    18263\n",
      "Name: sales, dtype: int64\n",
      "   year  sales\n",
      "0  2015  16498\n",
      "1  2016  17332\n",
      "2  2017  18335\n",
      "3  2018  18069\n",
      "4  2019  18263\n"
     ]
    }
   ],
   "source": [
    "# For now, we care about the total sales of honey per year. \n",
    "# Use the .groupby() method provided by pandas to get the sum of totalsales per year using .sum() function.\n",
    "# Store this in a variable called sales_per_year.\n",
    "# Print the total sales for each year\n",
    "\n",
    "sales_per_year = computersales_df.groupby('year').sales.sum()\n",
    "print(sales_per_year)\n",
    "\n",
    "data= [[2015, 16498], [2016, 17332], [2017, 18335], [2018, 18069], [2019, 18263]]\n",
    "\n",
    "sales_per_year = pd.DataFrame(data, columns = ['year', 'sales'])\n",
    "print(sales_per_year)\n"
   ]
  },
  {
   "cell_type": "code",
   "execution_count": 4,
   "metadata": {},
   "outputs": [
    {
     "name": "stdout",
     "output_type": "stream",
     "text": [
      "[[2015]\n",
      " [2016]\n",
      " [2017]\n",
      " [2018]\n",
      " [2019]] [16498 17332 18335 18069 18263]\n"
     ]
    }
   ],
   "source": [
    "# Create a variable called X that is the column of years in this sales_per_year DataFrame.\n",
    "# After creating X, dont' forget to reshape it to get it into the right format, using .reshape(-1, 1)\n",
    "# Create a variable called y that is the sales column in the sales_per_year data frame.\n",
    "# print X and y to check on our work.\n",
    "\n",
    "X = sales_per_year[['year']]\n",
    "\n",
    "X = sales_per_year.year.to_numpy().reshape(-1, 1)\n",
    "\n",
    "y= sales_per_year['sales']\n",
    "\n",
    "y = sales_per_year.sales.to_numpy()\n",
    "\n",
    "print(X, y)\n"
   ]
  },
  {
   "cell_type": "code",
   "execution_count": 5,
   "metadata": {},
   "outputs": [
    {
     "data": {
      "image/png": "[encoded data removed]",
      "text/plain": [
       "<Figure size 432x288 with 1 Axes>"
      ]
     },
     "metadata": {
      "needs_background": "light"
     },
     "output_type": "display_data"
    }
   ],
   "source": [
    "# Using plt.scatter(), plot y vs X as a scatterplot.\n",
    "# Put appropriate lables on X-axis and Y-axis\n",
    "# Display the plot to see whether there is linear relationship between the variables.\n",
    "\n",
    "plt.scatter(sales_per_year.year, sales_per_year.sales)\n",
    "plt.plot(sales_per_year.year, sales_per_year.sales, c=\"red\")\n",
    "plt.xlabel(\"Year\")\n",
    "plt.ylabel(\"Sales\")\n",
    "\n",
    "plt.show()\n",
    "\n"
   ]
  },
  {
   "cell_type": "code",
   "execution_count": 6,
   "metadata": {},
   "outputs": [
    {
     "name": "stdout",
     "output_type": "stream",
     "text": [
      "\n",
      "Coefficient Estimate (beta-1 [426.7]\n",
      "\n",
      "Intercept (beta-0) -842954.5000000001\n",
      "[16846.  17272.7 17699.4 18126.1 18552.8]\n",
      "R-square is: 0.7472473726712112\n"
     ]
    }
   ],
   "source": [
    "# Create a linear regression model computer_regr.\n",
    "# Fit the model to the data by using .fit(). \n",
    "# Print out the slope of the line and the intercept of the line.\n",
    "# Computer a store predictions from computer_reg and store it in a list called y_predict.\n",
    "# Print out y_predict to check your results.\n",
    "# Calculate and print out R-squre\n",
    "\n",
    "computer_regr=LinearRegression()\n",
    "computer_regr.fit(X, y)\n",
    "print(\"\\nCoefficient Estimate (beta-1\", computer_regr.coef_)\n",
    "print(\"\\nIntercept (beta-0)\", computer_regr.intercept_)\n",
    "y_predict=computer_regr.predict(X)\n",
    "print(y_predict)\n",
    "\n",
    "print(\"R-square is:\", computer_regr.score(X, y, sample_weight=None))\n"
   ]
  },
  {
   "cell_type": "code",
   "execution_count": 7,
   "metadata": {},
   "outputs": [
    {
     "data": {
      "image/png": "[encoded data removed]",
      "text/plain": [
       "<Figure size 432x288 with 1 Axes>"
      ]
     },
     "metadata": {
      "needs_background": "light"
     },
     "output_type": "display_data"
    }
   ],
   "source": [
    "# Plot y_predict vs X as a line, on top of your scatterplot.\n",
    "\n",
    "plt.scatter(sales_per_year.year, sales_per_year.sales)\n",
    "plt.plot(sales_per_year.year, y_predict, c=\"red\")\n",
    "plt.title(\"Computer Sales-2015-2019\")\n",
    "plt.xlabel(\"Year\")\n",
    "plt.ylabel(\"Sales\")\n",
    "plt.show()\n"
   ]
  },
  {
   "cell_type": "code",
   "execution_count": 8,
   "metadata": {},
   "outputs": [
    {
     "name": "stdout",
     "output_type": "stream",
     "text": [
      "[[2020]\n",
      " [2021]\n",
      " [2022]\n",
      " [2023]\n",
      " [2024]\n",
      " [2025]]\n",
      "[18979.5 19406.2 19832.9 20259.6 20686.3 21113. ]\n"
     ]
    }
   ],
   "source": [
    "# Is sales increasing, decreasing, or stay the same?\n",
    "# Following this trend, how would the sales of 2025 be like?\n",
    "# Create a NumPy array called X_future that is the range from 2020 to 2025. Don't forget to reshape it.\n",
    "# Create a list called future_predict to store predictions for the values of X_future.\n",
    "# Print out the list to check your answer\n",
    "\n",
    "# Sales are generally increasing. \n",
    "# Sales in 2025 should be over $20,000. \n",
    "\n",
    "X_future=np.array(range(2020, 2026, 1))\n",
    "X_future=X_future.reshape(-1, 1)\n",
    "print(X_future)\n",
    "\n",
    "future_predict=computer_regr.predict(X_future)\n",
    "print(future_predict)"
   ]
  },
  {
   "cell_type": "code",
   "execution_count": 9,
   "metadata": {},
   "outputs": [
    {
     "data": {
      "text/plain": [
       "Text(0, 0.5, 'Sales')"
      ]
     },
     "execution_count": 9,
     "metadata": {},
     "output_type": "execute_result"
    },
    {
     "data": {
      "image/png": "[encoded data removed]",
      "text/plain": [
       "<Figure size 432x288 with 1 Axes>"
      ]
     },
     "metadata": {
      "needs_background": "light"
     },
     "output_type": "display_data"
    }
   ],
   "source": [
    "# Plot future_predict vs X_future on a different plot.\n",
    "# Can you predict what is the sales of 2015 will be?\n",
    "\n",
    "plt.scatter(X_future, future_predict)\n",
    "plt.plot(X_future, future_predict, c=\"red\") \n",
    "plt.title(\"Computer Sales-2020-2025\")\n",
    "plt.xlabel(\"Year\")\n",
    "plt.ylabel(\"Sales\")\n",
    "\n",
    "#The predicted sales for 2025 are $21,113. I'm assuming that the '1' in 2015 is a typo since we already know from the previous plot that the 2015 sales were $16,500. \n"
   ]
  },
  {
   "cell_type": "markdown",
   "metadata": {},
   "source": [
    "Use your words to interpret your results:\n",
    "\n",
    "\n",
    "\n",
    "Lessons learned through this exercise:\n",
    "\n",
    "\n"
   ]
  },
  {
   "cell_type": "code",
   "execution_count": 10,
   "metadata": {},
   "outputs": [],
   "source": [
    "#Interpretation of results: The sales from 2020-2025 are expected to increase each year between 2020 and 2025."
   ]
  },
  {
   "cell_type": "code",
   "execution_count": 11,
   "metadata": {},
   "outputs": [],
   "source": [
    "#Lessons learned through this exercise: I learned many things from this exercise. Most importantly, I how to explore the relationship between the independent and dependent variables and how to transform the variables to predict future values. Additionally, I learned how to visually display the relationship between the independent variable and dependent variable in a linear regression model."
   ]
  },
  {
   "cell_type": "markdown",
   "metadata": {},
   "source": [
    "## Multiple Linear Regression\n",
    "\n"
   ]
  },
  {
   "cell_type": "raw",
   "metadata": {},
   "source": [
    "The file bostonhousing.csv contains information collected by the US Bureau of the Census concerning housing in the area of Boston, Massachusetts. The dataset includes information on 506 census housing tracts in the Boston area. The goal is to predict the median house price in new tracts based on information such as crime rate, pollution, and number of rooms. The dataset contains 13 predictors, and the outcome variable is the median house price (MEDV). \n",
    "\n",
    "Description of Variables for Boston Housing Dataset\n",
    "CRIM: Per capita crime rate by town\n",
    "ZN: Proportion of residential land zoned for lots over 25,000 square feet\n",
    "INDUS: Proportion of nonretail business acres per twon\n",
    "CHAS: Charles River dummy variable (=1 if tract bounds river; =0 otherwise)\n",
    "NOX: Nitric oxide concentration (parts per 10 millin)\n",
    "RM: average number of rooms per dwelling\n",
    "AGE: Proportion f owner-occupied units built prior to 1940\n",
    "DIS: Weighted distances to five Boston employemnet centers\n",
    "RAD: Index of accessibility to radial highways\n",
    "TAX: Full-value property-tax rate per $10,000   \n",
    "PTRATIO: Pupil/teacher ratio by twon\n",
    "LSTAT: Percentage lower status of the population\n",
    "MEDV: Median value of owner-occupied homes in $1000s"
   ]
  },
  {
   "cell_type": "code",
   "execution_count": 12,
   "metadata": {},
   "outputs": [
    {
     "name": "stdout",
     "output_type": "stream",
     "text": [
      "Index(['CRIM', 'ZN', 'INDUS', 'CHAS', 'NOX', 'RM', 'AGE', 'DIS', 'RAD', 'TAX',\n",
      "       'PTRATIO', 'LSTAT', 'MEDV', 'CAT. MEDV'],\n",
      "      dtype='object')\n",
      "      CRIM    ZN  INDUS  CHAS    NOX     RM   AGE     DIS  RAD  TAX  PTRATIO  \\\n",
      "0  0.00632  18.0   2.31     0  0.538  6.575  65.2  4.0900    1  296     15.3   \n",
      "1  0.02731   0.0   7.07     0  0.469  6.421  78.9  4.9671    2  242     17.8   \n",
      "2  0.02729   0.0   7.07     0  0.469  7.185  61.1  4.9671    2  242     17.8   \n",
      "3  0.03237   0.0   2.18     0  0.458  6.998  45.8  6.0622    3  222     18.7   \n",
      "4  0.06905   0.0   2.18     0  0.458  7.147  54.2  6.0622    3  222     18.7   \n",
      "\n",
      "   LSTAT  MEDV  CAT. MEDV  \n",
      "0   4.98  24.0          0  \n",
      "1   9.14  21.6          0  \n",
      "2   4.03  34.7          1  \n",
      "3   2.94  33.4          1  \n",
      "4   5.33  36.2          1  \n",
      "<class 'pandas.core.frame.DataFrame'>\n",
      "RangeIndex: 506 entries, 0 to 505\n",
      "Data columns (total 14 columns):\n",
      " #   Column     Non-Null Count  Dtype  \n",
      "---  ------     --------------  -----  \n",
      " 0   CRIM       506 non-null    float64\n",
      " 1   ZN         506 non-null    float64\n",
      " 2   INDUS      506 non-null    float64\n",
      " 3   CHAS       506 non-null    int64  \n",
      " 4   NOX        506 non-null    float64\n",
      " 5   RM         506 non-null    float64\n",
      " 6   AGE        506 non-null    float64\n",
      " 7   DIS        506 non-null    float64\n",
      " 8   RAD        506 non-null    int64  \n",
      " 9   TAX        506 non-null    int64  \n",
      " 10  PTRATIO    506 non-null    float64\n",
      " 11  LSTAT      506 non-null    float64\n",
      " 12  MEDV       506 non-null    float64\n",
      " 13  CAT. MEDV  506 non-null    int64  \n",
      "dtypes: float64(10), int64(4)\n",
      "memory usage: 55.5 KB\n",
      "None\n",
      "             CRIM          ZN       INDUS        CHAS         NOX          RM  \\\n",
      "count  506.000000  506.000000  506.000000  506.000000  506.000000  506.000000   \n",
      "mean     3.613524   11.363636   11.136779    0.069170    0.554695    6.284634   \n",
      "std      8.601545   23.322453    6.860353    0.253994    0.115878    0.702617   \n",
      "min      0.006320    0.000000    0.460000    0.000000    0.385000    3.561000   \n",
      "25%      0.082045    0.000000    5.190000    0.000000    0.449000    5.885500   \n",
      "50%      0.256510    0.000000    9.690000    0.000000    0.538000    6.208500   \n",
      "75%      3.677083   12.500000   18.100000    0.000000    0.624000    6.623500   \n",
      "max     88.976200  100.000000   27.740000    1.000000    0.871000    8.780000   \n",
      "\n",
      "              AGE         DIS         RAD         TAX     PTRATIO       LSTAT  \\\n",
      "count  506.000000  506.000000  506.000000  506.000000  506.000000  506.000000   \n",
      "mean    68.574901    3.795043    9.549407  408.237154   18.455534   12.653063   \n",
      "std     28.148861    2.105710    8.707259  168.537116    2.164946    7.141062   \n",
      "min      2.900000    1.129600    1.000000  187.000000   12.600000    1.730000   \n",
      "25%     45.025000    2.100175    4.000000  279.000000   17.400000    6.950000   \n",
      "50%     77.500000    3.207450    5.000000  330.000000   19.050000   11.360000   \n",
      "75%     94.075000    5.188425   24.000000  666.000000   20.200000   16.955000   \n",
      "max    100.000000   12.126500   24.000000  711.000000   22.000000   37.970000   \n",
      "\n",
      "             MEDV   CAT. MEDV  \n",
      "count  506.000000  506.000000  \n",
      "mean    22.532806    0.166008  \n",
      "std      9.197104    0.372456  \n",
      "min      5.000000    0.000000  \n",
      "25%     17.025000    0.000000  \n",
      "50%     21.200000    0.000000  \n",
      "75%     25.000000    0.000000  \n",
      "max     50.000000    1.000000  \n"
     ]
    }
   ],
   "source": [
    "# load the data to dataframe housing_df\n",
    "# display column/variable names\n",
    "# review first 5 records in the data\n",
    "# try other ways to explore the data\n",
    "\n",
    "housing_df=pd.read_csv(\"C:/Users/lisaj/OneDrive/Documents/Documents/MIS 536/Lab4_dataset/Lab4_dataset/bostonhousing.csv\")\n",
    "\n",
    "print(housing_df.columns)\n",
    "print(housing_df.head())\n",
    "print(housing_df.info())\n",
    "print(housing_df.describe())\n"
   ]
  },
  {
   "cell_type": "code",
   "execution_count": 13,
   "metadata": {},
   "outputs": [],
   "source": [
    "# select columns for regression analysis\n",
    "# store predictors in X\n",
    "# store outcome variables in Y\n",
    "\n",
    "outcome='MEDV'\n",
    "predictors=['CRIM', 'CHAS', 'RM']\n",
    "\n",
    "X=housing_df[predictors]\n",
    "y=housing_df[outcome]\n"
   ]
  },
  {
   "cell_type": "code",
   "execution_count": 14,
   "metadata": {},
   "outputs": [
    {
     "name": "stdout",
     "output_type": "stream",
     "text": [
      "(506, 3)\n",
      "\n",
      "Training set: (404, 3) \n",
      "Test set: (102, 3)\n"
     ]
    }
   ],
   "source": [
    "# partition data into training set (80%) and test set (20%)\n",
    "# name training set X_training, y_training\n",
    "# name testing set X_test, y_test\n",
    "# print out each partitioned sub-set to check on your work\n",
    "\n",
    "X_training, X_test, y_training, y_test = train_test_split(X, y, test_size=0.2, random_state=1)\n",
    "\n",
    "print(X.shape)\n",
    "print('\\nTraining set:', X_training.shape, '\\nTest set:', X_test.shape)\n"
   ]
  },
  {
   "cell_type": "code",
   "execution_count": 15,
   "metadata": {},
   "outputs": [
    {
     "name": "stdout",
     "output_type": "stream",
     "text": [
      "intercept -26.562838524841556\n",
      "  Predictor  coefficient\n",
      "0      CRIM    -0.254507\n",
      "1      CHAS     2.825778\n",
      "2        RM     7.944484\n"
     ]
    }
   ],
   "source": [
    "# build regression model\n",
    "# fit the regression model \n",
    "# print coefficients\n",
    "\n",
    "housing_mlr=LinearRegression()\n",
    "housing_mlr.fit(X_training, y_training)\n",
    "\n",
    "print('intercept', housing_mlr.intercept_)\n",
    "print(pd.DataFrame({'Predictor': X.columns, 'coefficient': housing_mlr.coef_}))"
   ]
  },
  {
   "cell_type": "code",
   "execution_count": 16,
   "metadata": {},
   "outputs": [
    {
     "name": "stdout",
     "output_type": "stream",
     "text": [
      "[27.8363832  26.62695726 21.28405183 20.12010767 15.09935311 23.90924436\n",
      " 26.09989297 21.33128489 23.5123948  24.40499709 25.6096578  28.03978768\n",
      " 18.9301594  19.40074813 21.22018931 14.94818755 22.3691303  42.61868078\n",
      " 22.3823069  11.96886071 18.6959124  17.60024393 25.51462677 24.31421934\n",
      " 23.39884715 16.24127895 21.45626417 21.20736817 33.04374711 14.18325497\n",
      " 25.68369136 17.91730195 37.25803653 20.57218656 22.23650915 20.44502373\n",
      " 22.21277739 30.19881814  1.03901306 20.56114724 23.73246845 23.5573449\n",
      " 25.85731393 20.76397868 19.96942415 24.64400626 37.779099   16.80617421\n",
      " 21.16228165 24.2633633  27.70699532 23.92200483 24.51259947 23.05289004\n",
      " 13.84562071 24.69868859 17.40444968 21.87213015 20.82503869 38.87096322\n",
      " 21.54742656 26.09449741 17.14152818 21.70743932 16.35901874 28.87495244\n",
      " 39.52391284 25.38773221 21.1547015  19.37347638 23.505512    4.18650185\n",
      " 11.92473689 26.20351983 22.079634   18.49598249 30.3372797  24.70013026\n",
      " 24.79307721 30.2042659  24.44531667 21.23247685 30.49698001 23.26074514\n",
      " 24.98105813 23.82845889 22.50149338 24.47931122 19.39919972 23.62351138\n",
      " 28.84242116 42.43031274 20.94210036 21.17693156 13.12362384 21.14567158\n",
      " 25.79920769 24.60483338 39.02601617 22.62577369 16.69211486 22.42058551]\n",
      "[27.8363832  26.62695726 21.28405183 20.12010767 15.09935311]\n"
     ]
    }
   ],
   "source": [
    "# validate your model on the testing dataset\n",
    "\n",
    "y_predicted=housing_mlr.predict(X_test)\n",
    "\n",
    "# print out the results\n",
    "print(y_predicted)\n",
    "print(y_predicted[:5])\n",
    "\n",
    "# I was not sure if I should print out all of the results or just the first five (as done in the video), so I included code for both possibilities. "
   ]
  },
  {
   "cell_type": "code",
   "execution_count": 17,
   "metadata": {},
   "outputs": [
    {
     "data": {
      "image/png": "[encoded data removed]",
      "text/plain": [
       "<Figure size 432x288 with 1 Axes>"
      ]
     },
     "metadata": {
      "needs_background": "light"
     },
     "output_type": "display_data"
    }
   ],
   "source": [
    "# Plot your predicted value against the actual value in the testing dataset\n",
    "# lable the x-axis and y-axis accordingly, do not forget to show your results\n",
    "\n",
    "plt.scatter(y_predicted, y_test)\n",
    "plt.title(\"Predicted Median House Prices in Boston vs. Actual Median House Prices in Boston\")\n",
    "plt.xlabel(\"Predicted Median House Prices in Boston\")\n",
    "plt.ylabel(\"Actual Median House Prices in Boston\")\n",
    "\n",
    "plt.show()\n"
   ]
  },
  {
   "cell_type": "code",
   "execution_count": 18,
   "metadata": {},
   "outputs": [
    {
     "name": "stdout",
     "output_type": "stream",
     "text": [
      "0.6409984773834483\n",
      "0.5231457348579104\n"
     ]
    }
   ],
   "source": [
    "# print R-square\n",
    "\n",
    "print(housing_mlr.score(X_test, y_test))\n",
    "print(housing_mlr.score(X_training, y_training))\n"
   ]
  },
  {
   "cell_type": "markdown",
   "metadata": {},
   "source": [
    "Use your words to interpret your results:\n",
    "\n",
    "\n",
    "\n",
    "Lessons learned through this exercise:\n",
    "\n",
    "\n",
    "\n"
   ]
  },
  {
   "cell_type": "code",
   "execution_count": 19,
   "metadata": {},
   "outputs": [],
   "source": [
    "#Interpretation of results: The results are predicted median house prices using per capita crime rate per town, Census tract bounding the Charles River, and number of rooms per dwelling as predictors. As the crime rate goes up, the median house price decreases. If the house in the tract borders the Charles River, the median house price increases. Also, the more rooms there are in a dwelling, the higher the median housing price is.\n",
    "#The R-squared value for the test model is 64% whereas the R-squared is 52% for the training model. The R-squared value measures the goodness-of-fit in the model. The R-squared value is higher for the test model than it is for the training model. "
   ]
  },
  {
   "cell_type": "code",
   "execution_count": 20,
   "metadata": {},
   "outputs": [],
   "source": [
    "# Lessons learned through this exercise: I learned how to partition data into a training and validation set. I also learned how to analyze the impact of three predictors on median housing price based on a U.S. Census data set and determine the R-squared of the test and training models used in this exercise."
   ]
  },
  {
   "cell_type": "code",
   "execution_count": null,
   "metadata": {},
   "outputs": [],
   "source": [
    "# Extra Credit (10 points): Find out the best model from the 12 predictors in this dataset to predict MEDV\n",
    "# pay attention to multicollinearity\n"
   ]
  },
  {
   "cell_type": "markdown",
   "metadata": {},
   "source": [
    "## Logistic Regression"
   ]
  },
  {
   "cell_type": "markdown",
   "metadata": {},
   "source": [
    "The file banks.csv includes data on a sample of 20 banks. The \"Financial Condition\" column records the judgement of an expert on the financial condition of each bank. This outcome variable takes one of two possible values -- weak or strong-- according to the financial condition of the bank. The predictors are two ratios used in the financial analysis of banks: TotLnsLses_Assets is the ratio of total loans and leases to total assets and TotExp_Assets is the ratio of total expenses to total assets. The target is to use the two ratios for classifying the financial condition of a new bank.\n",
    "\n",
    "Run a logistic regression model (on the entire dataset) that model the status of a bank as a function of the two financial measures provided. Specify the success class as weak (this is similar to creating a dummy that is 1 for financially weak banks and 0 otherwise), and use the default cutoff value of 0.5."
   ]
  },
  {
   "cell_type": "code",
   "execution_count": 22,
   "metadata": {},
   "outputs": [
    {
     "name": "stdout",
     "output_type": "stream",
     "text": [
      "   Obs  Financial_Condition  TotCap_Assets  TotExp_Assets  TotLnsLses_Assets\n",
      "0    1                    1            9.7           0.12               0.65\n",
      "1    2                    1            1.0           0.11               0.62\n",
      "2    3                    1            6.9           0.09               1.02\n",
      "3    4                    1            5.8           0.10               0.67\n",
      "4    5                    1            4.3           0.11               0.69\n",
      "Obs                    20\n",
      "Financial_Condition    20\n",
      "TotCap_Assets          20\n",
      "TotExp_Assets          20\n",
      "TotLnsLses_Assets      20\n",
      "dtype: int64\n"
     ]
    }
   ],
   "source": [
    "# load the data to data frame banks_df\n",
    "# display column/variable names\n",
    "# review first 5 records in the data\n",
    "\n",
    "banks_df=pd.read_csv(\"C:/Users/lisaj/OneDrive/Documents/Documents/MIS 536/Lab4_dataset/Lab4_dataset/banks.csv\")\n",
    "\n",
    "print(banks_df.head())\n",
    "print(banks_df.count())"
   ]
  },
  {
   "cell_type": "code",
   "execution_count": 23,
   "metadata": {},
   "outputs": [
    {
     "name": "stdout",
     "output_type": "stream",
     "text": [
      "    TotLnsLses_Assets  TotExp_Assets\n",
      "0                0.65           0.12\n",
      "1                0.62           0.11\n",
      "2                1.02           0.09\n",
      "3                0.67           0.10\n",
      "4                0.69           0.11\n",
      "5                0.74           0.13\n",
      "6                0.79           0.10\n",
      "7                0.63           0.13\n",
      "8                0.72           0.16\n",
      "9                0.57           0.16\n",
      "10               0.43           0.08\n",
      "11               0.80           0.12\n",
      "12               0.69           0.07\n",
      "13               0.53           0.08\n",
      "14               0.73           0.09\n",
      "15               0.30           0.09\n",
      "16               0.49           0.08\n",
      "17               0.55           0.11\n",
      "18               0.44           0.08\n",
      "19               0.51           0.08 0     1\n",
      "1     1\n",
      "2     1\n",
      "3     1\n",
      "4     1\n",
      "5     1\n",
      "6     1\n",
      "7     1\n",
      "8     1\n",
      "9     1\n",
      "10    0\n",
      "11    0\n",
      "12    0\n",
      "13    0\n",
      "14    0\n",
      "15    0\n",
      "16    0\n",
      "17    0\n",
      "18    0\n",
      "19    0\n",
      "Name: Financial_Condition, dtype: int64\n"
     ]
    }
   ],
   "source": [
    "# Is the data clean?\n",
    "# Select the predictors to X, outcome variable to y\n",
    "\n",
    "# The data appears to be clean. I do not see any combined variables or missing values. I do not believe there are any duplicates either. \n",
    "\n",
    "X=banks_df[[\"TotLnsLses_Assets\", \"TotExp_Assets\"]]\n",
    "y=banks_df[\"Financial_Condition\"]\n",
    "print(X, y)\n"
   ]
  },
  {
   "cell_type": "code",
   "execution_count": 24,
   "metadata": {},
   "outputs": [
    {
     "name": "stdout",
     "output_type": "stream",
     "text": [
      "(20, 2)\n",
      "\n",
      "Training set: (12, 2) \n",
      " Test set: (8, 2)\n"
     ]
    }
   ],
   "source": [
    "# partition data into training set (60%) and test set (40%)\n",
    "# name training set X_training, y_training\n",
    "# name testing set X_test, y_test\n",
    "# print out each partitioned sub-set to check on your work\n",
    "\n",
    "X_training, X_test, y_training, y_test=train_test_split(X, y, test_size=0.4, random_state=5)\n",
    "print(X.shape)\n",
    "print('\\nTraining set:', X_training.shape, '\\n Test set:', X_test.shape)\n",
    "\n",
    "\n"
   ]
  },
  {
   "cell_type": "code",
   "execution_count": 25,
   "metadata": {},
   "outputs": [
    {
     "name": "stdout",
     "output_type": "stream",
     "text": [
      "    TotLnsLses_Assets  TotExp_Assets\n",
      "13          -0.526389      -1.025139\n",
      "18          -1.195213      -1.025139\n",
      "7            0.216748       0.783929\n",
      "4            0.662631       0.060302\n",
      "8            0.885572       1.869370\n",
      "9           -0.229134       1.869370\n",
      "0            0.365376       0.422116\n",
      "16          -0.823644      -1.025139\n",
      "6            1.405768      -0.301511\n",
      "15          -2.235605      -0.663325\n",
      "14           0.959886      -0.663325\n",
      "3            0.514003      -0.301511\n",
      "    TotLnsLses_Assets  TotExp_Assets\n",
      "2            2.000817      -0.431638\n",
      "5            0.400163       1.541566\n",
      "17          -0.685994       0.554964\n",
      "19          -0.914659      -0.924940\n",
      "12           0.114332      -1.418241\n",
      "1           -0.285831       0.554964\n",
      "11           0.743161       1.048265\n",
      "10          -1.371989      -0.924940\n"
     ]
    }
   ],
   "source": [
    "# Scale the predictor datasets so it has mean = 0 and standard deviation = 1\n",
    "\n",
    "scaler=StandardScaler()\n",
    "X_training=pd.DataFrame(scaler.fit_transform(X_training), index=X_training.index, columns=X_training.columns)\n",
    "                  \n",
    "print(X_training)\n",
    "                        \n",
    "X_test=pd.DataFrame(scaler.fit_transform(X_test), index=X_test.index, columns=X_test.columns)\n",
    "\n",
    "print(X_test)\n"
   ]
  },
  {
   "cell_type": "code",
   "execution_count": 26,
   "metadata": {},
   "outputs": [
    {
     "data": {
      "text/plain": [
       "LogisticRegression()"
      ]
     },
     "execution_count": 26,
     "metadata": {},
     "output_type": "execute_result"
    }
   ],
   "source": [
    "# Create and train the model\n",
    "# fit the model\n",
    "\n",
    "banks_df_lr=LogisticRegression()\n",
    "banks_df_lr.fit(X_training, y_training)\n"
   ]
  },
  {
   "cell_type": "code",
   "execution_count": 27,
   "metadata": {},
   "outputs": [
    {
     "name": "stdout",
     "output_type": "stream",
     "text": [
      "intercept: [0.50947949]\n",
      "[('TotLnsLses_Assets', 0.8384044295309269), ('TotExp_Assets', 1.2641532927117796)]\n"
     ]
    }
   ],
   "source": [
    "# Analyze the coefficients\n",
    "\n",
    "print('intercept:', banks_df_lr.intercept_)\n",
    "print(list(zip([\"TotLnsLses_Assets\", \"TotExp_Assets\"], banks_df_lr.coef_[0])))"
   ]
  },
  {
   "cell_type": "code",
   "execution_count": 28,
   "metadata": {},
   "outputs": [
    {
     "name": "stdout",
     "output_type": "stream",
     "text": [
      "[0 0 1 1]\n",
      "[[0.74183311 0.25816689]\n",
      " [0.86362176 0.13637824]\n",
      " [0.05721071 0.94278929]\n",
      " [0.10554879 0.89445121]]\n"
     ]
    }
   ],
   "source": [
    "# Make predictions on test data\n",
    "\n",
    "Thirteen=np.array([-0.526389, -1.025139])\n",
    "Eighteen=np.array([-1.195213, -1.025139])\n",
    "Seven=np.array([0.216748, 0.783929])\n",
    "Four=np.array([0.662631, 0.060302])\n",
    "\n",
    "sample_banks_df=np.array([Thirteen, Eighteen, Seven, Four])\n",
    "sample_banks_df=scaler.fit_transform(sample_banks_df)\n",
    "\n",
    "print(banks_df_lr.predict(sample_banks_df))\n",
    "print(banks_df_lr.predict_proba(sample_banks_df))\n",
    "\n",
    "\n"
   ]
  },
  {
   "cell_type": "code",
   "execution_count": 29,
   "metadata": {},
   "outputs": [
    {
     "name": "stdout",
     "output_type": "stream",
     "text": [
      "0.9166666666666666\n",
      "0.75\n"
     ]
    }
   ],
   "source": [
    "# Score the model\n",
    "\n",
    "print(banks_df_lr.score(X_training, y_training))\n",
    "print(banks_df_lr.score(X_test, y_test))\n"
   ]
  },
  {
   "cell_type": "markdown",
   "metadata": {},
   "source": [
    "Use your words to interpret your results:\n",
    "\n",
    "\n",
    "\n",
    "Lessons learned through this exercise:\n",
    "\n",
    "\n",
    "\n"
   ]
  },
  {
   "cell_type": "code",
   "execution_count": null,
   "metadata": {},
   "outputs": [],
   "source": [
    "#Interpretation of Results: Both TotLnsLses_Assets and TotExp_Assets appear to impact the \"financial condition\" of a bank. However, TotExp_Assets has a greater impact on a bank's \"financial condition\" since its coeffcient has a greater value. The financial condition probabilities were calculated for the following banks, Thirteen, Eighteen, Seven, and Four, based on their ratio of total loans and leases \n",
    "#to total assets and ratio of total expenses to total assets. According to the results, it appears that banks Thirteen and Eighteen are predicted to have a \"not weak\" financial condition whereas banks Seven and Four are likely to have a weak financial condition. The probabilities for banks Thirteen and Eighteen have a \"not weak\" financial condition are above the default cutoff value of 0.5. The probabilities of banks Seven and Four having a weak financial condition \n",
    "#are also above the default cutoff value of 0.5. This means that I can be confident that the linear regression model is making reliable predictions for the financial status of the four banks I selected."
   ]
  },
  {
   "cell_type": "code",
   "execution_count": null,
   "metadata": {},
   "outputs": [],
   "source": [
    "#Lessons learned through this exercise: I learned how to make predictions for a dependent variable that has two values, 1 and 0. Also, I learned how to understand the likelihood of a bank's financial status based on the probabitlies of its condition being assigned as weak or otherwise by looking at the probabilities associated with the bank being assigned '1' or '0.'"
   ]
  }
 ],
 "metadata": {
  "kernelspec": {
   "display_name": "Python 3 (ipykernel)",
   "language": "python",
   "name": "python3"
  },
  "language_info": {
   "codemirror_mode": {
    "name": "ipython",
    "version": 3
   },
   "file_extension": ".py",
   "mimetype": "text/x-python",
   "name": "python",
   "nbconvert_exporter": "python",
   "pygments_lexer": "ipython3",
   "version": "3.8.10"
  }
 },
 "nbformat": 4,
 "nbformat_minor": 4
}
